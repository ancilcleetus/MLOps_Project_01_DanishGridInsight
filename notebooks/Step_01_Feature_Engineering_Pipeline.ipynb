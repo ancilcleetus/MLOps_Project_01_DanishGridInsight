{
  "nbformat": 4,
  "nbformat_minor": 0,
  "metadata": {
    "colab": {
      "provenance": []
    },
    "kernelspec": {
      "name": "python3",
      "display_name": "Python 3"
    },
    "language_info": {
      "name": "python"
    }
  },
  "cells": [
    {
      "cell_type": "markdown",
      "source": [
        "# DanishGridInsight Project: Step 01 Feature Engineering Pipeline"
      ],
      "metadata": {
        "id": "F6dfM34sf_l1"
      }
    },
    {
      "cell_type": "markdown",
      "source": [
        "![rainbow](https://github.com/ancilcleetus/My-Learning-Journey/assets/25684256/839c3524-2a1d-4779-85a0-83c562e1e5e5)"
      ],
      "metadata": {
        "id": "D0XaQAZ-g549"
      }
    },
    {
      "cell_type": "markdown",
      "source": [
        "# 📖 TABLE OF CONTENTS\n",
        "\n",
        "- [Section 1]()\n",
        "  - [Subsection 1]()\n",
        "    - [Subsubsection 1]()\n",
        "    - [Subsubsection 2]()\n",
        "  - [Subsection 2]()\n",
        "    - [Subsubsection 1]()\n",
        "    - [Subsubsection 2]()\n",
        "- [Section 2]()\n",
        "  - [Subsection 1]()\n",
        "    - [Subsubsection 1]()\n",
        "    - [Subsubsection 2]()\n",
        "  - [Subsection 2]()\n",
        "    - [Subsubsection 1]()\n",
        "    - [Subsubsection 2]()"
      ],
      "metadata": {
        "id": "SIhfEEeuxaVU"
      }
    },
    {
      "cell_type": "markdown",
      "source": [
        "![rainbow](https://github.com/ancilcleetus/My-Learning-Journey/assets/25684256/839c3524-2a1d-4779-85a0-83c562e1e5e5)"
      ],
      "metadata": {
        "id": "uLR90WhedwER"
      }
    },
    {
      "cell_type": "markdown",
      "source": [
        "# 1. Data Source"
      ],
      "metadata": {
        "id": "bKim3KwyTp11"
      }
    },
    {
      "cell_type": "markdown",
      "source": [
        "We used an open API that provides hourly energy consumption values for all the energy consumer types within Denmark.\n",
        "\n",
        "They provide an intuitive interface where you can easily query and visualize the data. [You can access the data here](https://www.energidataservice.dk/tso-electricity/ConsumptionDE35Hour).\n",
        "\n",
        "The data has 4 main attributes:\n",
        "\n",
        "- **Hour UTC:** the UTC datetime when the data point was observed.\n",
        "\n",
        "- **Price Area:** Denmark is divided into two price areas: DK1 and DK2 — divided by the Great Belt. DK1 is west of the Great Belt, and DK2 is east of the Great Belt.\n",
        "\n",
        "- **Consumer Type:** The consumer type is the Industry Code DE35, owned and maintained by Danish Energy, a non-commercial lobby organization for Danish energy companies. The code is used by Danish energy companies.\n",
        "\n",
        "- **Total Consumption:** Total electricity consumption in kWh\n",
        "\n",
        "The data points have an hourly resolution. For example: \"2023—04—15 21:00Z\", \"2023—04—15 20:00Z\", \"2023—04—15 19:00Z\", etc.\n",
        "\n",
        "**We will model the data as multiple time series. Each unique price area and consumer type tuple represents its unique time series.**\n",
        "\n",
        "Thus, **we will build a model that independently forecasts the energy consumption for the next 24 hours for every time series.**\n",
        "\n",
        "**Note 1:** The observations have a lag of 15 days! But for our demo use case, that is not a problem, as we can simulate the same steps as it would be in real-time.\n",
        "\n",
        "**Note 2:** [Above dataset](https://www.energidataservice.dk/tso-electricity/ConsumptionDE35Hour) is no longer updated and will be removed from Energi Data Service in December 2023. For data after June 2023, [please find data here](https://www.energidataservice.dk/tso-electricity/ConsumptionDK3619codehour). The observations for this new dataset have a lag of 8 days & 11 hours."
      ],
      "metadata": {
        "id": "VpBZsDQR8DnN"
      }
    },
    {
      "cell_type": "markdown",
      "source": [
        "![rainbow](https://github.com/ancilcleetus/My-Learning-Journey/assets/25684256/839c3524-2a1d-4779-85a0-83c562e1e5e5)"
      ],
      "metadata": {
        "id": "U897-NGnYhHk"
      }
    },
    {
      "cell_type": "markdown",
      "source": [
        "Difficulty: ${\\color{green}{Easy}}$\n",
        "Difficulty: ${\\color{orange}{Medium}}$\n",
        "Difficulty: ${\\color{red}{Hard}}$"
      ],
      "metadata": {
        "id": "Pf0qrlJcsUj9"
      }
    },
    {
      "cell_type": "code",
      "source": [
        "# Deep Learning as subset of ML\n",
        "\n",
        "from IPython import display\n",
        "display.Image(\"data/images/Step_01_Feature_Engineering_Pipeline-01.png\")"
      ],
      "metadata": {
        "id": "juNAxVBFg7sw"
      },
      "execution_count": null,
      "outputs": []
    },
    {
      "cell_type": "markdown",
      "source": [
        "![rainbow](https://github.com/ancilcleetus/My-Learning-Journey/assets/25684256/839c3524-2a1d-4779-85a0-83c562e1e5e5)"
      ],
      "metadata": {
        "id": "qqv0L0R9dyKJ"
      }
    }
  ]
}